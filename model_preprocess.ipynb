{
 "cells": [
  {
   "cell_type": "markdown",
   "id": "26da5f50",
   "metadata": {},
   "source": [
    "这一个代码的主要目标是对数据进行预处理，现在一共获得了大约9万多条蛋白质数据，需要获取uniprot ID对应的蛋白质序列，并从这些序列中计算出pssm矩阵，使用psi-blast工具进行计算。"
   ]
  },
  {
   "cell_type": "code",
   "execution_count": 1,
   "id": "b78a91ce",
   "metadata": {},
   "outputs": [],
   "source": [
    "import numpy as np\n",
    "import pandas as pd\n",
    "import matplotlib.pyplot as plt\n",
    "import seaborn as sns\n",
    "import os\n",
    "os.chdir('/data/zhangjian/graduate_project/dataset_for_Tm/high-data/result_high_data')"
   ]
  },
  {
   "cell_type": "code",
   "execution_count": 2,
   "id": "00fd61c5",
   "metadata": {},
   "outputs": [],
   "source": [
    "#以五度为间隔绘制蛋白质熔融温度Tm的分布图。\n",
    "import math\n",
    "def nearest_multiple_of_5(number):\n",
    "    # 将给定数值除以5并向下取整\n",
    "    nearest_multiple = math.floor(number / 5) * 5\n",
    "    return nearest_multiple\n",
    "\n",
    "# 绘制条形图\n",
    "def plot_raw(data,log=False):\n",
    "    # 划分区段\n",
    "    bins = range(nearest_multiple_of_5(data['Tm'].min())+1, int(data['Tm'].max()) + 6, 5)\n",
    "    # 计算每个分组中的蛋白质数量\n",
    "    counts, bin_edges = np.histogram(data['Tm'], bins=bins)\n",
    "    # 对数量进行对数变换\n",
    "    if log == True:\n",
    "        counts_log = np.log10(counts)\n",
    "        counts = counts_log\n",
    "    plt.figure(figsize=(10, 6))\n",
    "    bars = plt.bar(range(len(counts)), counts, color='skyblue')\n",
    "    plt.bar(range(len(counts)), counts, color='skyblue')\n",
    "    plt.title('Protein Count in  high data')\n",
    "    plt.xlabel('Tm Result Bins')\n",
    "    \n",
    "\n",
    "    \n",
    "    if log == True:\n",
    "        for i, bar in enumerate(bars):\n",
    "            plt.text(bar.get_x() + bar.get_width() / 2, bar.get_height(), f\"{counts_log[i]:.2f}\",\n",
    "                 ha='center', va='bottom')\n",
    "        plt.yticks(np.arange(0, np.floor(counts_log.max()) + 1, 1))\n",
    "        plt.ylabel('log(Protein Count)')\n",
    "        plt.xticks(range(len(bins)-1), [f'{bins[i]}-{bins[i+1]-1}' for i in range(len(bins)-1)], rotation=45, ha='right')\n",
    "    if log == False:\n",
    "        for i, bar in enumerate(bars):\n",
    "            plt.text(bar.get_x() + bar.get_width() / 2, bar.get_height(), f\"{counts[i]}\",\n",
    "                     ha='center', va='bottom')\n",
    "        #plt.yticks(np.arange(0, np.floor(counts.max()) + 1, 1))\n",
    "        plt.ylabel('Protein Count')\n",
    "        plt.xticks(range(len(bins)-1), [f'{bins[i]}-{bins[i+1]-1}' for i in range(len(bins)-1)], rotation=45, ha='right')\n",
    "    plt.show()\n"
   ]
  },
  {
   "cell_type": "code",
   "execution_count": 3,
   "id": "63d6d788",
   "metadata": {},
   "outputs": [],
   "source": [
    "Tm_sum = pd.read_csv('Tm_sum.csv')\n",
    "OGT_sum = pd.read_csv('OGT_sum.csv')"
   ]
  },
  {
   "cell_type": "code",
   "execution_count": 4,
   "id": "4c55265f",
   "metadata": {},
   "outputs": [],
   "source": [
    "#将OGT大于60的蛋白质数据添加到蛋白质熔融温度之中。\n",
    "#选择60度作为高稳蛋白和低稳蛋白的分界线。\n",
    "Tm_sum = Tm_sum[['Uniprot_ID','Tm']]\n",
    "Tm_high = Tm_sum[Tm_sum['Tm']>60]\n",
    "Tm_low = Tm_sum[Tm_sum['Tm']<60]\n",
    "OGT_sum = OGT_sum[['Uniprot_ID','ogt']]\n",
    "OGT_sum.columns = ['Uniprot_ID','Tm']\n",
    "OGT_high = OGT_sum[OGT_sum['Tm']>60]"
   ]
  },
  {
   "cell_type": "code",
   "execution_count": 5,
   "id": "af6bdd83",
   "metadata": {},
   "outputs": [],
   "source": [
    "Tm_data = pd.concat([Tm_high,Tm_low,OGT_high],axis=0)\n",
    "Tm_data['Uniprot_ID_First_Part'] = Tm_data['Uniprot_ID'].apply(lambda x: x.split('_')[0])\n",
    "handle_Tm = Tm_data.drop_duplicates(subset='Uniprot_ID_First_Part')\n",
    "handle_Tm = handle_Tm.reset_index(drop=True)"
   ]
  },
  {
   "cell_type": "code",
   "execution_count": 6,
   "id": "b3bdebaa",
   "metadata": {},
   "outputs": [],
   "source": [
    "import pandas as pd\n",
    "import requests\n",
    "from io import BytesIO\n",
    "import gzip\n",
    "def sequence_get(input_data):\n",
    "\n",
    "    species_ID = input_data\n",
    "    #这一部分的网址url需要根据自己的需要进行调整。\n",
    "    #url = f'https://rest.uniprot.org/uniprotkb/stream?compressed=true&download=true&fields=accession%2Cid%2Cprotein_name%2Corganism_name%2Clength&format=tsv&query=%28%28organism_id%3A{species_ID}%29%29+AND+%28reviewed%3Atrue%29%29'\n",
    "    #url = f'https://rest.uniprot.org/uniparc/stream?compressed=true&download=true&fields=upi%2Csequence&format=tsv&query=%28{species_ID}%29'\n",
    "    #url = f'https://rest.uniprot.org/uniprotkb/stream?compressed=true&download=true&fields=accession%2Csequence&format=tsv&query=%28%28accession%3A{species_ID}%29%29'\n",
    "    url = f'https://rest.uniprot.org/uniprotkb/stream?compressed=true&download=true&fields=accession%2Csequence&format=tsv&query=%28%28accession%3A{species_ID}%29%29'\n",
    "    response = requests.get(url)\n",
    "\n",
    "    if response.status_code == 200:\n",
    "         # 从响应中解压缩数据\n",
    "        with gzip.GzipFile(fileobj=BytesIO(response.content), mode='rb') as f:\n",
    "        # 读取解压缩后的数据并创建DataFrame\n",
    "            temp = pd.read_csv(f, sep='\\t')\n",
    "            if temp.shape[0]==0:\n",
    "                print(f'No result for {species_ID}')\n",
    "            elif temp.shape[0]==1:\n",
    "                return temp.loc[0,'Sequence']          \n",
    "    else:\n",
    "        print(f\"no found for {species_ID}\")\n",
    "        pass\n",
    "    \n",
    "#例子\n",
    "sequence_get('P02294')#获得单独uniprot_ID的序列\n",
    "handle_Tm['Sequence'] = handle_Tm['Uniprot_ID_First_Part'].apply(squence_get)#批量获得一个dataframe中一列uniprot ID对应的序列。"
   ]
  },
  {
   "cell_type": "code",
   "execution_count": null,
   "id": "da30129d",
   "metadata": {
    "scrolled": true
   },
   "outputs": [
    {
     "name": "stdout",
     "output_type": "stream",
     "text": [
      "No result for P02294;P02293\n",
      "No result for P04911;P04912\n",
      "No result for P0A832;C3UPD1\n"
     ]
    }
   ],
   "source": [
    "handle_Tm['Sequence'] = handle_Tm['Uniprot_ID_First_Part'].apply(squence_get)"
   ]
  },
  {
   "cell_type": "code",
   "execution_count": 65,
   "id": "62a3d31a",
   "metadata": {},
   "outputs": [],
   "source": [
    "#handle_Tm.to_csv('Tm_final.csv')"
   ]
  },
  {
   "cell_type": "code",
   "execution_count": 72,
   "id": "e482fdb7",
   "metadata": {
    "scrolled": true
   },
   "outputs": [
    {
     "name": "stdout",
     "output_type": "stream",
     "text": [
      "No result for B4E1K7\n",
      "No result for E9PB14\n",
      "No result for F5H801\n",
      "no found for P02294;P02293\n",
      "no found for P04911;P04912\n",
      "no found for P0A832;C3UPD1\n",
      "No result for Q5SHP7\n",
      "No result for Q5SHQ1\n",
      "no found for set\n",
      "No result for A0A0J9YIW4\n",
      "No result for A0A0R4ID52\n",
      "No result for A0A0R4ISB3\n",
      "No result for A3KGQ6\n",
      "No result for B0S5S6\n",
      "No result for B1ATD2\n",
      "No result for B4DEM7\n",
      "No result for B7Z4K6\n",
      "No result for D3YW87\n",
      "No result for D3YWS2\n",
      "No result for E7F8Y5\n",
      "No result for E7F9F6\n",
      "No result for E7FCA3\n",
      "No result for E7FG56\n",
      "No result for E9PAL9\n",
      "No result for E9PBJ5\n",
      "No result for E9PD78\n",
      "No result for E9PSH2\n",
      "No result for E9PVY8\n",
      "No result for E9PYB0\n",
      "No result for E9Q8F1\n",
      "No result for E9QG37\n",
      "No result for F1QAP2\n",
      "No result for F1QLT6\n",
      "No result for F1QSY7\n",
      "No result for F5GZD0\n",
      "No result for F5H1Z9\n",
      "No result for F6WYQ5\n",
      "No result for F7ASG0\n",
      "No result for G8JLD5\n",
      "No result for H2L075\n",
      "No result for H2L0N6\n",
      "No result for J3KMM5\n",
      "No result for O02065\n",
      "No result for O17244\n",
      "No result for O44128\n",
      "No result for O44537\n",
      "No result for P05534\n",
      "no found for P07281;P07280\n",
      "no found for P07806-2;P07806\n",
      "No result for P08107\n",
      "no found for P0C0T4;Q3E792\n",
      "no found for P0C0W1;Q3E7Y3\n",
      "no found for P0C0W9;Q3E757\n",
      "no found for P0C2H6;P0C2H7\n",
      "no found for P0CE47;P0CE48\n",
      "No result for P15092\n",
      "no found for P15565;P15565-2\n",
      "No result for P30042\n",
      "No result for P32132\n",
      "no found for P32800-2;P32800\n",
      "no found for P32836;P32835\n",
      "no found for P38088-2;P38088\n",
      "no found for P38711;P35997\n",
      "no found for P39516;P06367\n",
      "no found for P40041;P40522\n",
      "no found for P46784;Q08745\n",
      "No result for P62158\n",
      "no found for P75679;P39212\n",
      "no found for P77170;P0ADI0\n",
      "no found for P87262;P40525\n",
      "no found for Q01532-2;Q01532\n",
      "no found for Q12690;P40212\n",
      "No result for Q17325\n",
      "No result for Q17550\n",
      "No result for Q20260\n",
      "No result for Q21849\n",
      "No result for Q23412\n",
      "no found for Q3E7X9;P0C0X0\n",
      "No result for Q6ZMK1\n",
      "No result for Q6ZW33\n",
      "No result for Q802D0\n",
      "No result for Q95XU3\n",
      "no found for Q96CB812\n",
      "No result for Q9N3K6\n",
      "No result for Q9NA30\n",
      "No result for Q9TYZ1\n",
      "No result for Q9UAN9\n"
     ]
    }
   ],
   "source": [
    "handle_Tm.loc[~handle_Tm['Sequence'].notna(),'Sequence'] = handle_Tm.loc[~handle_Tm['Sequence'].notna(),'Uniprot_ID_First_Part'].apply(sequence_get)"
   ]
  },
  {
   "cell_type": "code",
   "execution_count": 75,
   "id": "e8b3cd02",
   "metadata": {},
   "outputs": [],
   "source": [
    "data_Tm2 = handle_Tm[handle_Tm['Sequence'].notna()]\n",
    "data_Tm1 = pd.read_csv('Tm_final.csv')\n",
    "data_Tm1 = data_Tm1[data_Tm1['Sequence'].notna()]\n",
    "list1 = list(data_Tm1['Uniprot_ID_First_Part'])\n",
    "data2_left = data_Tm2[~data_Tm2['Uniprot_ID_First_Part'].isin(list1)]"
   ]
  },
  {
   "cell_type": "code",
   "execution_count": 79,
   "id": "41dac831",
   "metadata": {},
   "outputs": [],
   "source": [
    "#data2_left.to_csv('Tm_left.csv')"
   ]
  },
  {
   "cell_type": "code",
   "execution_count": 81,
   "id": "2ad48f06",
   "metadata": {},
   "outputs": [
    {
     "data": {
      "image/png": "[encoded data removed]",
      "text/plain": [
       "<Figure size 1000x600 with 1 Axes>"
      ]
     },
     "metadata": {},
     "output_type": "display_data"
    }
   ],
   "source": [
    "plot_raw(data_Tm2)"
   ]
  },
  {
   "cell_type": "code",
   "execution_count": 90,
   "id": "876b8315",
   "metadata": {},
   "outputs": [],
   "source": [
    "data_Tm2_sum = data_Tm2[data_Tm2['Sequence'].notna()]\n",
    "data_Tm2_sum['length'] = data_Tm2_sum['Sequence'].apply(len)"
   ]
  },
  {
   "cell_type": "code",
   "execution_count": null,
   "id": "f48fa8ed",
   "metadata": {},
   "outputs": [],
   "source": [
    "import pandas as pd\n",
    "from Bio import SeqIO\n",
    "from Bio.SeqRecord import SeqRecord\n",
    "\n",
    "\n",
    "# 定义一个函数，用于将DataFrame中的数据保存为fasta文件\n",
    "def save_fasta_from_dataframe(dataframe, id_column, sequence_column, output_file):\n",
    "    records = []\n",
    "    for index, row in dataframe.iterrows():\n",
    "        sequence_id = row[id_column]\n",
    "        sequence = row[sequence_column]\n",
    "        record = SeqRecord(sequence, id=sequence_id, description=\"\")\n",
    "        records.append(record)\n",
    "    \n",
    "    with open(output_file, \"w\") as output_handle:\n",
    "        SeqIO.write(records, output_handle, \"fasta\")\n"
   ]
  },
  {
   "cell_type": "code",
   "execution_count": null,
   "id": "fd6b63f8",
   "metadata": {},
   "outputs": [],
   "source": [
    "Tm_sum = pd.read_csv('Tm_final.csv')\n",
    "Tm_sum1 = Tm_sum[Tm_sum['Sequence'].notna()]\n",
    "#save_fasta_from_dataframe(Tm_sum1,'Uniprot_ID_First_Part','Sequence','Tm_seq.fasta')\n",
    "import os\n",
    "import pandas as pd\n",
    "import subprocess\n",
    "from concurrent.futures import ThreadPoolExecutor\n",
    "\n",
    "def parse_fasta(file_path):\n",
    "    sequences = {}\n",
    "    with open(file_path, 'r') as file:\n",
    "        sequence = ''\n",
    "        identifier = None\n",
    "        for line in file:\n",
    "            if line.startswith('>'):\n",
    "                if identifier:\n",
    "                    sequences[identifier] = sequence\n",
    "                    sequence = ''\n",
    "                identifier = line.strip()[1:]\n",
    "            else:\n",
    "                sequence += line.strip()\n",
    "        if identifier:\n",
    "            sequences[identifier] = sequence\n",
    "    return sequences\n",
    "\n",
    "def Get_PSSM_single(identifier, sequence, output_dir):\n",
    "    with open(\"Temporary.fasta\", 'w') as temp_file:\n",
    "        temp_file.write(f\">{identifier}\\n{sequence}\")\n",
    "    subprocess.run(['/data/zhangjian/psi-blast/ncbi-blast-2.15.0+/bin/psiblast', '-query', 'Temporary.fasta', '-db', '/data/zhangjian/psi-blast/ncbi-blast-2.15.0+/db/swissprot/swissprot', '-evalue', '0.001', '-num_iterations', '3', '-out_ascii_pssm', os.path.join(output_dir, f\"{identifier}.pssm\")], stdout=subprocess.DEVNULL, stderr=subprocess.DEVNULL)\n",
    "\n",
    "def Get_PSSM(fasta_file, output_dir):\n",
    "    sequences = parse_fasta(fasta_file)\n",
    "    \n",
    "    if not os.path.exists(output_dir):\n",
    "        os.makedirs(output_dir)\n",
    "\n",
    "    with ThreadPoolExecutor() as executor:\n",
    "        futures = []\n",
    "        for identifier, sequence in sequences.items():\n",
    "            futures.append(executor.submit(Get_PSSM_single, identifier, sequence, output_dir))\n",
    "        for future in futures:\n",
    "            future.result()\n",
    "\n",
    "fasta_file = \"Tm_seq.fasta\"  # 输入的FASTA文件路径\n",
    "output_directory = \"pssm3\"  # 输出目录\n",
    "Get_PSSM(fasta_file, output_directory)"
   ]
  },
  {
   "cell_type": "code",
   "execution_count": null,
   "id": "a2641350",
   "metadata": {},
   "outputs": [],
   "source": [
    "import seaborn as sns\n",
    "\n",
    "# 设置风格\n",
    "sns.set(style=\"whitegrid\")\n",
    "\n",
    "# 绘制曲线图\n",
    "sns.kdeplot(data=data_all2['Length'], shade=True, color=\"b\")\n",
    "\n",
    "# 添加标题和标签\n",
    "plt.title('Length Distribution')\n",
    "plt.xlabel('Length')\n",
    "plt.ylabel('Density')\n",
    "plt.axvline(x=512, color='r', linestyle='--')\n",
    "# 显示图形\n",
    "plt.show()"
   ]
  },
  {
   "cell_type": "code",
   "execution_count": null,
   "id": "696af75c",
   "metadata": {},
   "outputs": [],
   "source": [
    "def load_file(file_path):\n",
    "    try:\n",
    "        with open(file_path) as f_in:\n",
    "            lines = f_in.readlines()\n",
    "        return lines\n",
    "    except IOError as err:\n",
    "        print('Can not open file: ' + file_path)\n",
    "        return 'nan'\n",
    "\n",
    "def parse_pssm(filelines, winsize=51, pssm_root=None, mutated_pos=None, most512=False):\n",
    "    filelines = load_file(os.path.join(pssm_root, filelines + '.pssm'))\n",
    "    if filelines == 'nan':\n",
    "        return 'nan'\n",
    "    pssmvalue = np.array([])\n",
    "    for line in filelines:\n",
    "        if len(line.split()) == 44:\n",
    "            pssmvalue = np.r_[pssmvalue, np.array(line.split()[2:22]).astype(float)]\n",
    "    pssmvalue = np.reshape(pssmvalue, (-1, 20))\n",
    "    if pssmvalue.shape[0] < 512:\n",
    "        pssmvalue = np.r_[pssmvalue, np.zeros([512 - pssmvalue.shape[0], 20])]\n",
    "    if most1024:\n",
    "        if pssmvalue.shape[0] > 512:\n",
    "            pssmvalue = pssmvalue[:512, :]\n",
    "    if mutated_pos != None:\n",
    "        pssmvalue = np.r_[np.zeros([25, 20]), pssmvalue, np.zeros([25, 20])]\n",
    "        pssmvalue = pssmvalue[mutated_pos - 1: mutated_pos + 50, :]\n",
    "    \n",
    "    return pssmvalue"
   ]
  },
  {
   "cell_type": "code",
   "execution_count": null,
   "id": "2f4f70c6",
   "metadata": {},
   "outputs": [],
   "source": [
    "data_all1 = data_all[data_all['Length']>=1024]\n",
    "ori_pssm_root = 'pssm3'\n",
    "pssm_par0 = [parse_pssm(x, pssm_root=ori_pssm_root) for x in data_all1['Uniprot_ID_First_Part']]\n",
    "\n",
    "data_all1['pssm_par0'] = pssm_par0\n",
    "data_all1 = data_all1[~(data_all1['pssm_par0'] == 'nan')]"
   ]
  },
  {
   "cell_type": "code",
   "execution_count": null,
   "id": "c6b8288d",
   "metadata": {},
   "outputs": [],
   "source": [
    "data_handle = pd.concat([data_all2,data_all3],axis=0)\n",
    "#95136个蛋白质\n",
    "data_handle.to_pickle('Tm_pssm_final.dataset')"
   ]
  },
  {
   "cell_type": "code",
   "execution_count": null,
   "id": "a8224f7d",
   "metadata": {},
   "outputs": [],
   "source": [
    "data_quan = pd.read_pickle('Tm_pssm_final.dataset')\n",
    "list_uniprot = list(data_quan['Uniprot_ID_First_Part'])\n",
    "data_left = Tm_sum[~Tm_sum['Uniprot_ID_First_Part'].isin(list_uniprot)]\n",
    "data_left['Length'] = data_left['Sequence'].apply(len)"
   ]
  },
  {
   "cell_type": "code",
   "execution_count": null,
   "id": "51fbafd8",
   "metadata": {},
   "outputs": [],
   "source": [
    "data_left = data_left[data_left['Sequence'].notna()]\n",
    "data_left['Length'] = data_left['Sequence'].apply(len)"
   ]
  },
  {
   "cell_type": "code",
   "execution_count": null,
   "id": "f5f4647b",
   "metadata": {},
   "outputs": [],
   "source": [
    "from Bio import SeqIO\n",
    "import pandas as pd\n",
    "\n",
    "# 读取fasta文件\n",
    "fasta_file = \"new.fasta\"\n",
    "\n",
    "# 创建一个空列表来存储每个序列的ID和序列\n",
    "sequences = []\n",
    "\n",
    "# 使用Biopython的SeqIO模块遍历fasta文件中的每个序列\n",
    "for record in SeqIO.parse(fasta_file, \"fasta\"):\n",
    "    # 获取序列的Uniprot ID和序列本身\n",
    "    uniprot_id = record.id\n",
    "    sequence = str(record.seq)\n",
    "    \n",
    "    # 将Uniprot ID和序列存储为元组，并添加到sequences列表中\n",
    "    sequences.append((uniprot_id, sequence))\n",
    "\n",
    "# 将sequences列表转换为DataFrame\n",
    "df = pd.DataFrame(sequences, columns=[\"Uniprot_ID\", \"Sequence\"])\n",
    "\n",
    "# 打印DataFrame的前几行\n",
    "print(df.head())\n",
    "list_temp = list(df['Uniprot_ID'])\n",
    "final_data = data_handle[data_handle['Uniprot_ID_First_Part'].isin(list_temp)]"
   ]
  },
  {
   "cell_type": "code",
   "execution_count": null,
   "id": "05e65bed",
   "metadata": {},
   "outputs": [],
   "source": [
    "#final_data.to_pickle('Tm_pssm_cdhit.dataset')"
   ]
  },
  {
   "cell_type": "code",
   "execution_count": null,
   "id": "af2e6f01",
   "metadata": {},
   "outputs": [],
   "source": [
    "ori_pssm_root = 'pssm2'\n",
    "pssm_par0 = [parse_pssm(x, pssm_root=ori_pssm_root) for x in final_data['Uniprot_ID_First_Part']]\n",
    "# pssm 51 window only available to single mutation items\n",
    "final_data['pssm_par0'] = pssm_par0\n",
    "final_data = final_data[~(final_data['pssm_par0'] == 'nan')]"
   ]
  },
  {
   "cell_type": "code",
   "execution_count": null,
   "id": "423e8b94",
   "metadata": {},
   "outputs": [],
   "source": [
    "final_data.to_pickle('new_pssm_cdhit.dataset')"
   ]
  }
 ],
 "metadata": {
  "kernelspec": {
   "display_name": "work3.8",
   "language": "python",
   "name": "work3.8"
  },
  "language_info": {
   "codemirror_mode": {
    "name": "ipython",
    "version": 3
   },
   "file_extension": ".py",
   "mimetype": "text/x-python",
   "name": "python",
   "nbconvert_exporter": "python",
   "pygments_lexer": "ipython3",
   "version": "3.8.18"
  }
 },
 "nbformat": 4,
 "nbformat_minor": 5
}
