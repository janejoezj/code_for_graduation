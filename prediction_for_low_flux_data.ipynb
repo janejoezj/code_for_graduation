{
 "cells": [
  {
   "cell_type": "markdown",
   "id": "7ecd7fba",
   "metadata": {},
   "source": [
    "这一篇代码主要是为了测试prothermDB低通量测定的数据在我们的模型上的效果"
   ]
  },
  {
   "cell_type": "code",
   "execution_count": 1,
   "id": "7324b147",
   "metadata": {},
   "outputs": [
    {
     "name": "stderr",
     "output_type": "stream",
     "text": [
      "2024-03-15 15:30:32.961442: I tensorflow/tsl/cuda/cudart_stub.cc:28] Could not find cuda drivers on your machine, GPU will not be used.\n",
      "2024-03-15 15:30:43.457292: I tensorflow/tsl/cuda/cudart_stub.cc:28] Could not find cuda drivers on your machine, GPU will not be used.\n",
      "2024-03-15 15:30:43.488955: I tensorflow/core/platform/cpu_feature_guard.cc:182] This TensorFlow binary is optimized to use available CPU instructions in performance-critical operations.\n",
      "To enable the following instructions: AVX2 AVX512F FMA, in other operations, rebuild TensorFlow with the appropriate compiler flags.\n",
      "2024-03-15 15:31:02.843050: W tensorflow/compiler/tf2tensorrt/utils/py_utils.cc:38] TF-TRT Warning: Could not find TensorRT\n"
     ]
    }
   ],
   "source": [
    "#导入所需要的python包和模块\n",
    "import tensorflow as tf\n",
    "from tensorflow import keras\n",
    "from tensorflow.keras import layers\n",
    "from tensorflow.keras import optimizers\n",
    "from tensorflow.keras.models import load_model\n",
    "# from keras.metrics import sparse_top_k_categorical_accuracy\n",
    "from sklearn import metrics\n",
    "from sklearn.metrics import confusion_matrix\n",
    "from sklearn.model_selection import StratifiedKFold\n",
    "from collections import Counter\n",
    "import tensorflow.keras.backend as K\n",
    "import numpy as np\n",
    "import os\n",
    "from tensorflow.keras.utils import to_categorical\n",
    "import sys\n",
    "import pandas as pd\n",
    "import numpy as np\n",
    "from PIL import Image\n",
    "import io\n",
    "from sklearn.model_selection import train_test_split\n",
    "\n",
    "import seaborn as sns\n",
    "import matplotlib.pyplot as plt\n",
    "%matplotlib inline\n",
    "import warnings\n",
    "import scipy\n",
    "from scipy.stats import chi2_contingency\n",
    "from scipy import stats\n",
    "from mippiNetbuild3 import *\n",
    "# sys.path.append('../input/mippi0801')\n",
    "# from transformer import *\n",
    "np.random.seed(0)\n",
    "os.chdir('/data/zhangjian/graduate_project/dataset_for_Tm/high-data/result_high_data')"
   ]
  },
  {
   "cell_type": "code",
   "execution_count": 13,
   "id": "8a040400",
   "metadata": {},
   "outputs": [],
   "source": [
    "import pandas as pd\n",
    "from Bio import SeqIO\n",
    "from Bio.SeqRecord import SeqRecord\n",
    "import os\n",
    "import pandas as pd\n",
    "import subprocess\n",
    "from concurrent.futures import ThreadPoolExecutor\n",
    "def parse_fasta(file_path):\n",
    "    sequences = {}\n",
    "    with open(file_path, 'r') as file:\n",
    "        sequence = ''\n",
    "        identifier = None\n",
    "        for line in file:\n",
    "            if line.startswith('>'):\n",
    "                if identifier:\n",
    "                    sequences[identifier] = sequence\n",
    "                    sequence = ''\n",
    "                identifier = line.strip()[1:]\n",
    "            else:\n",
    "                sequence += line.strip()\n",
    "        if identifier:\n",
    "            sequences[identifier] = sequence\n",
    "    return sequences\n",
    "\n",
    "def Get_PSSM_single(identifier, sequence, output_dir):\n",
    "    with open(\"Temporary.fasta\", 'w') as temp_file:\n",
    "        temp_file.write(f\">{identifier}\\n{sequence}\")\n",
    "    subprocess.run(['/data/zhangjian/psi-blast/ncbi-blast-2.15.0+/bin/psiblast', '-query', 'Temporary.fasta', '-db', '/data/zhangjian/psi-blast/ncbi-blast-2.15.0+/db/swissprot/swissprot', '-evalue', '0.001', '-num_iterations', '3', '-out_ascii_pssm', os.path.join(output_dir, f\"{identifier}.pssm\")], stdout=subprocess.DEVNULL, stderr=subprocess.DEVNULL)\n",
    "\n",
    "def Get_PSSM(fasta_file, output_dir):\n",
    "    sequences = parse_fasta(fasta_file)\n",
    "    \n",
    "    if not os.path.exists(output_dir):\n",
    "        os.makedirs(output_dir)\n",
    "\n",
    "    with ThreadPoolExecutor() as executor:\n",
    "        futures = []\n",
    "        for identifier, sequence in sequences.items():\n",
    "            futures.append(executor.submit(Get_PSSM_single, identifier, sequence, output_dir))\n",
    "        for future in futures:\n",
    "            future.result()"
   ]
  },
  {
   "cell_type": "code",
   "execution_count": 14,
   "id": "213bc6c9",
   "metadata": {},
   "outputs": [],
   "source": [
    "import pandas as pd\n",
    "import requests\n",
    "from io import BytesIO\n",
    "import gzip\n",
    "#通过Uniprot_ID获得其蛋白质序列。\n",
    "def sequence_get(input_data):\n",
    "\n",
    "    species_ID = input_data\n",
    "    #url = f'https://rest.uniprot.org/uniprotkb/stream?compressed=true&download=true&fields=accession%2Cid%2Cprotein_name%2Corganism_name%2Clength&format=tsv&query=%28%28organism_id%3A{species_ID}%29%29+AND+%28reviewed%3Atrue%29%29'\n",
    "    #url = f'https://rest.uniprot.org/uniparc/stream?compressed=true&download=true&fields=upi%2Csequence&format=tsv&query=%28{species_ID}%29'\n",
    "    #url = f'https://rest.uniprot.org/uniprotkb/stream?compressed=true&download=true&fields=accession%2Csequence&format=tsv&query=%28%28accession%3A{species_ID}%29%29'\n",
    "    url = f'https://rest.uniprot.org/uniprotkb/stream?compressed=true&download=true&fields=accession%2Csequence&format=tsv&query=%28%28accession%3A{species_ID}%29%29'\n",
    "    response = requests.get(url)\n",
    "\n",
    "    if response.status_code == 200:\n",
    "         # 从响应中解压缩数据\n",
    "        with gzip.GzipFile(fileobj=BytesIO(response.content), mode='rb') as f:\n",
    "        # 读取解压缩后的数据并创建DataFrame\n",
    "            temp = pd.read_csv(f, sep='\\t')\n",
    "            if temp.shape[0]==0:\n",
    "                print(f'No result for {species_ID}')\n",
    "            elif temp.shape[0]==1:\n",
    "                return temp.loc[0,'Sequence']          \n",
    "    else:\n",
    "        print(f\"no found for {species_ID}\")\n",
    "        pass\n",
    "# 定义一个函数，用于将DataFrame中的数据保存为fasta文件\n",
    "def save_fasta_from_dataframe(dataframe, id_column, sequence_column, output_file):\n",
    "    records = []\n",
    "    for index, row in dataframe.iterrows():\n",
    "        sequence_id = row[id_column]\n",
    "        sequence = row[sequence_column]\n",
    "        record = SeqRecord(sequence, id=sequence_id, description=\"\")\n",
    "        records.append(record)\n",
    "    \n",
    "    with open(output_file, \"w\") as output_handle:\n",
    "        SeqIO.write(records, output_handle, \"fasta\")\n"
   ]
  },
  {
   "cell_type": "code",
   "execution_count": 17,
   "id": "91e82967",
   "metadata": {},
   "outputs": [],
   "source": [
    "def load_file(file_path):\n",
    "    try:\n",
    "        with open(file_path) as f_in:\n",
    "            lines = f_in.readlines()\n",
    "        return lines\n",
    "    except IOError as err:\n",
    "        print('Can not open file: ' + file_path)\n",
    "        return 'nan'\n",
    "\n",
    "def parse_pssm(filelines, winsize=51, pssm_root=None, mutated_pos=None, most1024=False):\n",
    "    filelines = load_file(os.path.join(pssm_root, filelines + '.pssm'))\n",
    "    if filelines == 'nan':\n",
    "        return 'nan'\n",
    "    pssmvalue = np.array([])\n",
    "    for line in filelines:\n",
    "        if len(line.split()) == 44:\n",
    "            pssmvalue = np.r_[pssmvalue, np.array(line.split()[2:22]).astype(float)]\n",
    "    pssmvalue = np.reshape(pssmvalue, (-1, 20))\n",
    "    if pssmvalue.shape[0] < 512:\n",
    "        pssmvalue = np.r_[pssmvalue, np.zeros([512 - pssmvalue.shape[0], 20])]\n",
    "    if most1024:\n",
    "        if pssmvalue.shape[0] > 512:\n",
    "            pssmvalue = pssmvalue[:512, :]\n",
    "    if mutated_pos != None:\n",
    "        pssmvalue = np.r_[np.zeros([25, 20]), pssmvalue, np.zeros([25, 20])]\n",
    "        pssmvalue = pssmvalue[mutated_pos - 1: mutated_pos + 50, :]\n",
    "    \n",
    "    return pssmvalue"
   ]
  },
  {
   "cell_type": "code",
   "execution_count": 3,
   "id": "38876006",
   "metadata": {},
   "outputs": [],
   "source": [
    "#获取prothermDB的低通量数据的序列信息。\n",
    "data = pd.read_csv('protherm_low_data.csv')"
   ]
  },
  {
   "cell_type": "code",
   "execution_count": 7,
   "id": "f75fc78e",
   "metadata": {},
   "outputs": [
    {
     "name": "stdout",
     "output_type": "stream",
     "text": [
      "No result for P04745\n",
      "No result for P62990\n",
      "No result for Q6B184\n"
     ]
    }
   ],
   "source": [
    "data['Sequence'] = data['UniProt_ID'].apply(sequence_get)\n",
    "data_new = data[data['Sequence'].notna()]"
   ]
  },
  {
   "cell_type": "code",
   "execution_count": 15,
   "id": "44f64429",
   "metadata": {},
   "outputs": [
    {
     "name": "stderr",
     "output_type": "stream",
     "text": [
      "/data/zhangjian/.conda/envs/work3.8/lib/python3.8/site-packages/Bio/SeqRecord.py:229: BiopythonDeprecationWarning: Using a string as the sequence is deprecated and will raise a TypeError in future. It has been converted to a Seq object.\n",
      "  warnings.warn(\n"
     ]
    }
   ],
   "source": [
    "save_fasta_from_dataframe(data_new,'UniProt_ID','Sequence','low_data.fasta')"
   ]
  },
  {
   "cell_type": "code",
   "execution_count": 16,
   "id": "6a8e0dad",
   "metadata": {},
   "outputs": [],
   "source": [
    "fasta_file = \"low_data.fasta\"  # 输入的FASTA文件路径\n",
    "output_directory = \"low_pssm\"  # 输出目录\n",
    "Get_PSSM(fasta_file, output_directory)"
   ]
  },
  {
   "cell_type": "code",
   "execution_count": 19,
   "id": "040abef8",
   "metadata": {},
   "outputs": [
    {
     "name": "stdout",
     "output_type": "stream",
     "text": [
      "Can not open file: low_pssm/P02640 .pssm\n",
      "Can not open file: low_pssm/P0DP23 .pssm\n",
      "Can not open file: low_pssm/P16404.pssm\n",
      "Can not open file: low_pssm/Q9S446 .pssm\n"
     ]
    },
    {
     "name": "stderr",
     "output_type": "stream",
     "text": [
      "/tmp/ipykernel_31395/2177332277.py:4: SettingWithCopyWarning: \n",
      "A value is trying to be set on a copy of a slice from a DataFrame.\n",
      "Try using .loc[row_indexer,col_indexer] = value instead\n",
      "\n",
      "See the caveats in the documentation: https://pandas.pydata.org/pandas-docs/stable/user_guide/indexing.html#returning-a-view-versus-a-copy\n",
      "  data_new['pssm_par0'] = pssm_par0\n",
      "/data/zhangjian/.conda/envs/work3.8/lib/python3.8/site-packages/pandas/core/ops/array_ops.py:82: FutureWarning: elementwise comparison failed; returning scalar instead, but in the future will perform elementwise comparison\n",
      "  result = libops.scalar_compare(x.ravel(), y, op)\n"
     ]
    }
   ],
   "source": [
    "ori_pssm_root = 'low_pssm'\n",
    "pssm_par0 = [parse_pssm(x, pssm_root=ori_pssm_root) for x in data_new['UniProt_ID']]\n",
    "# pssm 51 window only available to single mutation items\n",
    "data_new['pssm_par0'] = pssm_par0\n",
    "data_new = data_new[~(data_new['pssm_par0'] == 'nan')]"
   ]
  },
  {
   "cell_type": "code",
   "execution_count": 20,
   "id": "a5e2753c",
   "metadata": {},
   "outputs": [],
   "source": [
    "#data_new.to_pickle('low_data.dataset')"
   ]
  },
  {
   "cell_type": "code",
   "execution_count": 107,
   "id": "fe056694",
   "metadata": {},
   "outputs": [],
   "source": [
    "aaDict = {'0':0, 'D':1, 'S':2, 'Q':3, 'K':4,\n",
    "          'I':5, 'P':6, 'T':7, 'F':8, 'N':9,\n",
    "          'G':10, 'H':11, 'L':12, 'R':13, 'W':14,\n",
    "          'A':15, 'V':16, 'E':17, 'Y':18, 'M':19, 'C':20}\n",
    "max_len = 512\n",
    "data_filtered = data_new[~data_new['Sequence'].str.contains('U|X')]\n",
    "par0_c = [[aaDict[x] for x in a] for a in data_filtered['Sequence']]\n",
    "par0_c = keras.preprocessing.sequence.pad_sequences(par0_c, maxlen=max_len, padding='post')"
   ]
  },
  {
   "cell_type": "code",
   "execution_count": 108,
   "id": "e859a51d",
   "metadata": {},
   "outputs": [],
   "source": [
    "pssm_par0 = data_filtered['pssm_par0'].values\n",
    "pssm_par0 = [x[:512, :] for x in pssm_par0] # restrict par protein length to 512\n",
    "pssm_par0 = np.stack(pssm_par0, axis=0).astype('float32')"
   ]
  },
  {
   "cell_type": "code",
   "execution_count": 109,
   "id": "59543dde",
   "metadata": {},
   "outputs": [],
   "source": [
    "data_test = [par0_c,pssm_par0]"
   ]
  },
  {
   "cell_type": "code",
   "execution_count": 110,
   "id": "4b44a047",
   "metadata": {},
   "outputs": [
    {
     "name": "stderr",
     "output_type": "stream",
     "text": [
      "/tmp/ipykernel_31395/914430846.py:1: SettingWithCopyWarning: \n",
      "A value is trying to be set on a copy of a slice from a DataFrame.\n",
      "Try using .loc[row_indexer,col_indexer] = value instead\n",
      "\n",
      "See the caveats in the documentation: https://pandas.pydata.org/pandas-docs/stable/user_guide/indexing.html#returning-a-view-versus-a-copy\n",
      "  data_filtered.loc[data_filtered['Tm']>60,'label'] = '1'\n"
     ]
    }
   ],
   "source": [
    "data_filtered.loc[data_filtered['Tm']>60,'label'] = '1'\n",
    "data_filtered.loc[data_filtered['Tm']<60,'label'] = '0'\n",
    "label = data_filtered['label'].values\n",
    "label = to_categorical(label, num_classes=2)"
   ]
  },
  {
   "cell_type": "code",
   "execution_count": 149,
   "id": "555f944e",
   "metadata": {},
   "outputs": [
    {
     "data": {
      "image/png": "[encoded data removed]",
      "text/plain": [
       "<Figure size 1000x600 with 1 Axes>"
      ]
     },
     "metadata": {},
     "output_type": "display_data"
    }
   ],
   "source": [
    "import math\n",
    "def nearest_multiple_of_5(number):\n",
    "    # 将给定数值除以5并向下取整\n",
    "    nearest_multiple = math.floor(number / 10) * 10\n",
    "    return nearest_multiple\n",
    "\n",
    "# 绘制条形图\n",
    "def plot_raw(data,log=False):\n",
    "    plt.rc('font', size=20)  # 设置字体大小为12\n",
    "    # 划分区段\n",
    "    bins = range(nearest_multiple_of_5(data['Tm'].min())+1, int(data['Tm'].max()) + 6, 10)\n",
    "\n",
    "    # 计算每个分组中的蛋白质数量\n",
    "    counts, bin_edges = np.histogram(data['Tm'], bins=bins)\n",
    "\n",
    "    # 对数量进行对数变换\n",
    "    if log == True:\n",
    "        counts_log = np.log10(counts)\n",
    "        counts = counts_log\n",
    "\n",
    "    plt.figure(figsize=(10, 6))\n",
    "    bars = plt.bar(range(len(counts)), counts, color='skyblue')\n",
    "    plt.bar(range(len(counts)), counts, color='skyblue')\n",
    "    plt.title('Protein Count in  low flux',fontsize=22)\n",
    "    plt.xlabel('Tm Bins',fontsize=20)\n",
    "    \n",
    "\n",
    "    \n",
    "    if log == True:\n",
    "        for i, bar in enumerate(bars):\n",
    "            plt.text(bar.get_x() + bar.get_width() / 2, bar.get_height(), f\"{counts_log[i]:.2f}\",\n",
    "                 ha='center', va='bottom')\n",
    "        plt.yticks(np.arange(0, np.floor(counts_log.max()) + 1, 1),fontsize=12)\n",
    "        plt.ylabel('log(Protein Count)')\n",
    "        plt.xticks(range(len(bins)-1), [f'{bins[i]}-{bins[i+1]-1}' for i in range(len(bins)-1)], rotation=45, ha='right')\n",
    "    if log == False:\n",
    "        for i, bar in enumerate(bars):\n",
    "            plt.text(bar.get_x() + bar.get_width() / 2, bar.get_height(), f\"{counts[i]}\",\n",
    "                     ha='center', va='bottom')\n",
    "        plt.yticks(np.arange(0, np.floor(counts.max()) + 1, 20),fontsize=20)\n",
    "        plt.ylabel('Protein Count',fontsize=20)\n",
    "        plt.xticks(range(len(bins)-1), [f'{bins[i]}-{bins[i+1]-1}' for i in range(len(bins)-1)], rotation=45, ha='right',fontsize=20)\n",
    "    plt.show()\n",
    "plot_raw(data_filtered)"
   ]
  },
  {
   "cell_type": "code",
   "execution_count": 115,
   "id": "80f5ad79",
   "metadata": {},
   "outputs": [
    {
     "name": "stdout",
     "output_type": "stream",
     "text": [
      "pssm: (None, 512, 20)\n",
      "seq: (None, 512, 44)\n",
      "x: (None, 512, 64)\n",
      "outputs: Tensor(\"cn_3/softmax/Softmax:0\", shape=(None, 2), dtype=float32)\n",
      "Model: \"model_3\"\n",
      "__________________________________________________________________________________________________\n",
      " Layer (type)                Output Shape                 Param #   Connected to                  \n",
      "==================================================================================================\n",
      " input_7 (InputLayer)        [(None, 512)]                0         []                            \n",
      "                                                                                                  \n",
      " input_8 (InputLayer)        [(None, 512, 20)]            0         []                            \n",
      "                                                                                                  \n",
      " cn_3 (cn)                   (None, 2)                    421534    ['input_7[0][0]',             \n",
      "                                                                     'input_8[0][0]']             \n",
      "                                                                                                  \n",
      "==================================================================================================\n",
      "Total params: 421534 (1.61 MB)\n",
      "Trainable params: 388766 (1.48 MB)\n",
      "Non-trainable params: 32768 (128.00 KB)\n",
      "__________________________________________________________________________________________________\n"
     ]
    }
   ],
   "source": [
    "model = build_model()\n",
    "# test_model = keras.Model()\n",
    "\n",
    "adam = optimizers.legacy.Adam(learning_rate=0.0002)\n",
    "\n",
    "model_path = r'train_model2/bestAcc.h53'\n",
    "# model_path = r'/lustre/home/acct-bmelgn/bmelgn-2/QianWei/MIPPI2/src/kaggle/cross_validation/activation_test/s51_leaky_3block_wfl_gp_HE/bestAcc.h51'\n",
    "\n",
    "\n",
    "#model_path = r'bestAcc.h54'\n",
    "model.load_weights(model_path)\n",
    "model.compile(adam, loss='binary_crossentropy', \n",
    "              metrics=['acc', tf.keras.metrics.TopKCategoricalAccuracy(k=2, name='top2acc')])\n",
    "model.summary()"
   ]
  },
  {
   "cell_type": "code",
   "execution_count": 117,
   "id": "e0c04633",
   "metadata": {},
   "outputs": [],
   "source": [
    "x_test = data_test\n",
    "y_test = label"
   ]
  },
  {
   "cell_type": "code",
   "execution_count": 118,
   "id": "e445487e",
   "metadata": {},
   "outputs": [
    {
     "name": "stdout",
     "output_type": "stream",
     "text": [
      "pssm: (None, 512, 20)\n",
      "seq: (None, 512, 44)\n",
      "x: (None, 512, 64)\n",
      "outputs: Tensor(\"model_3/cn_3/softmax/Softmax:0\", shape=(None, 2), dtype=float32)\n",
      "conf_mat: [[143  49]\n",
      " [ 63  35]]\n",
      "conf_mat: [[143  49]\n",
      " [ 63  35]]\n",
      "precision\trecall\tf1\tmcc_score\taccuracy\n",
      "metrics:\n",
      " [[0.69417476 0.74479167 0.71859296 0.10629472 0.6137931 ]\n",
      " [0.41666667 0.35714286 0.38461538 0.10629472 0.6137931 ]]\n",
      "confusion_matrix:\n",
      " [[143  49]\n",
      " [ 63  35]]\n",
      "model default metrics: \n",
      "\n",
      "['loss', 'acc', 'top2acc']\n",
      "[0.8623883724212646, 0.6137930750846863, 1.0]\n",
      "conf_mat: [[ 35  63]\n",
      " [ 49 143]]\n",
      "----------------------binary_metrics-----------------------\n",
      "precision\trecall\tf1\tmcc_score\taccuracy\n",
      "metrics:\n",
      " [[0.41666667 0.35714286 0.38461538 0.10629472 0.6137931 ]\n",
      " [0.69417476 0.74479167 0.71859296 0.10629472 0.6137931 ]]\n",
      "auc: 0.5703125\n",
      "cm: \n",
      "[[ 35  63]\n",
      " [ 49 143]]\n"
     ]
    }
   ],
   "source": [
    "x_test = data_test\n",
    "y_test = label\n",
    "y_pred = model.predict(x_test, verbose=0)\n",
    "y_true = y_test\n",
    "    \n",
    "model_metrics(y_test.argmax(axis=-1), y_pred.argmax(axis=-1))\n",
    "\n",
    "y_pred, y_true = evaluate_model(model, x_test, y_test)"
   ]
  },
  {
   "cell_type": "code",
   "execution_count": 150,
   "id": "03f74d69",
   "metadata": {},
   "outputs": [
    {
     "name": "stdout",
     "output_type": "stream",
     "text": [
      "True Negatives (TN): 143\n",
      "True Positives (TP): 35\n",
      "False Negatives (FN): 63\n",
      "False Positives (FP): 49\n"
     ]
    }
   ],
   "source": [
    "from sklearn.metrics import confusion_matrix\n",
    "\n",
    "# 将预测的类别与真实的类别转换为混淆矩阵\n",
    "conf_matrix = confusion_matrix(y_true.argmax(axis=-1), y_pred.argmax(axis=-1))\n",
    "\n",
    "# 从混淆矩阵中提取TN, TP, FN, FP\n",
    "TN = conf_matrix[0, 0]\n",
    "TP = conf_matrix[1, 1]\n",
    "FN = conf_matrix[1, 0]\n",
    "FP = conf_matrix[0, 1]\n",
    "\n",
    "print(\"True Negatives (TN):\", TN)\n",
    "print(\"True Positives (TP):\", TP)\n",
    "print(\"False Negatives (FN):\", FN)\n",
    "print(\"False Positives (FP):\", FP)\n"
   ]
  },
  {
   "cell_type": "code",
   "execution_count": null,
   "id": "60a79ebb",
   "metadata": {},
   "outputs": [],
   "source": []
  }
 ],
 "metadata": {
  "kernelspec": {
   "display_name": "work3.8",
   "language": "python",
   "name": "work3.8"
  },
  "language_info": {
   "codemirror_mode": {
    "name": "ipython",
    "version": 3
   },
   "file_extension": ".py",
   "mimetype": "text/x-python",
   "name": "python",
   "nbconvert_exporter": "python",
   "pygments_lexer": "ipython3",
   "version": "3.8.18"
  }
 },
 "nbformat": 4,
 "nbformat_minor": 5
}
